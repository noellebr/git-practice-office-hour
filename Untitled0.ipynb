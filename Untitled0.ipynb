{
 "cells": [
  {
   "cell_type": "code",
   "execution_count": 1,
   "metadata": {},
   "outputs": [
    {
     "data": {
      "text/plain": [
       "2"
      ]
     },
     "execution_count": 1,
     "metadata": {},
     "output_type": "execute_result"
    }
   ],
   "source": [
    "1 + 1"
   ]
  },
  {
   "cell_type": "markdown",
   "metadata": {
    "id": "J4Rsjdk4Pi5o"
   },
   "source": [
    "SENSE AND SENSIBILITY\n",
    "\n",
    "by Jane Austen\n",
    "\n",
    "(1811)\n",
    "\n",
    "\n",
    "\n",
    "\n",
    "CHAPTER 1\n",
    "\n",
    "\n",
    "The family of Dashwood had long been settled in Sussex.  Their estate\n",
    "was large, and their residence was at Norland Park, in the centre of\n",
    "their property, where, for many generations, they had lived in so\n",
    "respectable a manner as to engage the general good opinion of their\n",
    "surrounding acquaintance.  The late owner of this estate was a single\n",
    "man, who lived to a very advanced age, and who for many years of his\n",
    "life, had a constant companion and housekeeper in his sister.  But her\n",
    "death, which happened ten years before his own, produced a great\n",
    "alteration in his home; for to supply her loss, he invited and received\n",
    "into his house the family of his nephew Mr. Henry Dashwood, the legal\n",
    "inheritor of the Norland estate, and the person to whom he intended to\n",
    "bequeath it.  In the society of his nephew and niece, and their\n",
    "children, the old Gentleman's days were comfortably spent.  His\n",
    "attachment to them all increased.  The constant attention of Mr. and\n",
    "Mrs. Henry Dashwood to his wishes, which proceeded not merely from\n",
    "interest, but from goodness of heart, gave him every degree of solid\n",
    "comfort which his age could receive; and the cheerfulness of the\n",
    "children added a relish to his existence.\n",
    "\n",
    "By a former marriage, Mr. Henry Dashwood had one son: by his present\n",
    "lady, three daughters.  The son, a steady respectable young man, was\n",
    "amply provided for by the fortune of his mother, which had been large,\n",
    "and half of which devolved on him on his coming of age.  By his own\n",
    "marriage, likewise, which happened soon afterwards, he added to his\n",
    "wealth.  To him therefore the succession to the Norland estate was not\n",
    "so really important as to his sisters; for their fortune, independent\n",
    "of what might arise to them from their father's inheriting that\n",
    "property, could be but small.  Their mother had nothing, and their\n",
    "father only seven thousand pounds in his own disposal; for the\n",
    "remaining moiety of his first wife's fortune was also secured to her\n",
    "child, and he had only a life-interest in it.\n",
    "\n",
    "The old gentleman died: his will was read, and like almost every other\n",
    "will, gave as much disappointment as pleasure.  He was neither so\n",
    "unjust, nor so ungrateful, as to leave his estate from his nephew;--but\n",
    "he left it to him on such terms as destroyed half the value of the\n",
    "bequest.  Mr. Dashwood had wished for it more for the sake of his wife\n",
    "and daughters than for himself or his son;--but to his son, and his\n",
    "son's son, a child of four years old, it was secured, in such a way, as\n",
    "to leave to himself no power of providing for those who were most dear\n",
    "to him, and who most needed a provision by any charge on the estate, or\n",
    "by any sale of its valuable woods.  The whole was tied up for the\n",
    "benefit of this child, who, in occasional visits with his father and\n",
    "mother at Norland, had so far gained on the affections of his uncle, by\n",
    "such attractions as are by no means unusual in children of two or three\n",
    "years old; an imperfect articulation, an earnest desire of having his\n",
    "own way, many cunning tricks, and a great deal of noise, as to outweigh\n",
    "all the value of all the attention which, for years, he had received\n",
    "from his niece and her daughters.  He meant not to be unkind, however,\n",
    "and, as a mark of his affection for the three girls, he left them a\n",
    "thousand pounds a-piece.\n",
    "\n",
    "Mr. Dashwood's disappointment was, at first, severe; but his temper was\n",
    "cheerful and sanguine; and he might reasonably hope to live many years,\n",
    "and by living economically, lay by a considerable sum from the produce\n",
    "of an estate already large, and capable of almost immediate\n",
    "improvement.  But the fortune, which had been so tardy in coming, was\n",
    "his only one twelvemonth.  He survived his uncle no longer; and ten\n",
    "thousand pounds, including the late legacies, was all that remained for\n",
    "his widow and daughters.\n",
    "\n",
    "His son was sent for as soon as his danger was known, and to him Mr.\n",
    "Dashwood recommended, with all the strength and urgency which illness\n",
    "could command, the interest of his mother-in-law and sisters.\n",
    "\n",
    "Mr. John Dashwood had not the strong feelings of the rest of the\n",
    "family; but he was affected by a recommendation of such a nature at\n",
    "such a time, and he promised to do every thing in his power to make\n",
    "them comfortable.  His father was rendered easy by such an assurance,\n",
    "and Mr. John Dashwood had then leisure to consider how much there might\n",
    "prudently be in his power to do for them.\n",
    "\n",
    "He was not an ill-disposed young man, unless to be rather cold hearted\n",
    "and rather selfish is to be ill-disposed: but he was, in general, well\n",
    "respected; for he conducted himself with propriety in the discharge of\n",
    "his ordinary duties.  Had he married a more amiable woman, he might\n",
    "have been made still more respectable than he was:--he might even have\n",
    "been made amiable himself; for he was very young when he married, and\n",
    "very fond of his wife.  But Mrs. John Dashwood was a strong caricature\n",
    "of himself;--more narrow-minded and selfish.\n",
    "\n",
    "When he gave his promise to his father, he meditated within himself to\n",
    "increase the fortunes of his sisters by the present of a thousand\n",
    "pounds a-piece.  He then really thought himself equal to it.  The\n",
    "prospect of four thousand a-year, in addition to his present income,\n",
    "besides the remaining half of his own mother's fortune, warmed his\n",
    "heart, and made him feel capable of generosity.-- \"Yes, he would give\n",
    "them three thousand pounds: it would be liberal and handsome! It would\n",
    "be enough to make them completely easy.  Three thousand pounds! he\n",
    "could spare so considerable a sum with little inconvenience.\"-- He\n",
    "thought of it all day long, and for many days successively, and he did\n",
    "not repent.\n",
    "\n",
    "No sooner was his father's funeral over, than Mrs. John Dashwood,\n",
    "without sending any notice of her intention to her mother-in-law,\n",
    "arrived with her child and their attendants.  No one could dispute her\n",
    "right to come; the house was her husband's from the moment of his\n",
    "father's decease; but the indelicacy of her conduct was so much the\n",
    "greater, and to a woman in Mrs. Dashwood's situation, with only common\n",
    "feelings, must have been highly unpleasing;--but in HER mind there was\n",
    "a sense of honor so keen, a generosity so romantic, that any offence of\n",
    "the kind, by whomsoever given or received, was to her a source of\n",
    "immovable disgust.  Mrs. John Dashwood had never been a favourite with\n",
    "any of her husband's family; but she had had no opportunity, till the\n",
    "present, of shewing them with how little attention to the comfort of\n",
    "other people she could act when occasion required it.\n",
    "\n",
    "So acutely did Mrs. Dashwood feel this ungracious behaviour, and so\n",
    "earnestly did she despise her daughter-in-law for it, that, on the\n",
    "arrival of the latter, she would have quitted the house for ever, had\n",
    "not the entreaty of her eldest girl induced her first to reflect on the\n",
    "propriety of going, and her own tender love for all her three children\n",
    "determined her afterwards to stay, and for their sakes avoid a breach\n",
    "with their brother.\n",
    "\n",
    "Elinor, this eldest daughter, whose advice was so effectual, possessed\n",
    "a strength of understanding, and coolness of judgment, which qualified\n",
    "her, though only nineteen, to be the counsellor of her mother, and\n",
    "enabled her frequently to counteract, to the advantage of them all,\n",
    "that eagerness of mind in Mrs. Dashwood which must generally have led\n",
    "to imprudence.  She had an excellent heart;--her disposition was\n",
    "affectionate, and her feelings were strong; but she knew how to govern\n",
    "them: it was a knowledge which her mother had yet to learn; and which\n",
    "one of her sisters had resolved never to be taught.\n",
    "\n",
    "Marianne's abilities were, in many respects, quite equal to Elinor's.\n",
    "She was sensible and clever; but eager in everything: her sorrows, her\n",
    "joys, could have no moderation.  She was generous, amiable,\n",
    "interesting: she was everything but prudent.  The resemblance between\n",
    "her and her mother was strikingly great.\n",
    "\n",
    "Elinor saw, with concern, the excess of her sister's sensibility; but\n",
    "by Mrs. Dashwood it was valued and cherished.  They encouraged each\n",
    "other now in the violence of their affliction.  The agony of grief\n",
    "which overpowered them at first, was voluntarily renewed, was sought\n",
    "for, was created again and again.  They gave themselves up wholly to\n",
    "their sorrow, seeking increase of wretchedness in every reflection that\n",
    "could afford it, and resolved against ever admitting consolation in\n",
    "future.  Elinor, too, was deeply afflicted; but still she could\n",
    "struggle, she could exert herself.  She could consult with her brother,\n",
    "could receive her sister-in-law on her arrival, and treat her with\n",
    "proper attention; and could strive to rouse her mother to similar\n",
    "exertion, and encourage her to similar forbearance.\n",
    "\n",
    "Margaret, the other sister, was a good-humored, well-disposed girl; but\n",
    "as she had already imbibed a good deal of Marianne's romance, without\n",
    "having much of her sense, she did not, at thirteen, bid fair to equal\n",
    "her sisters at a more advanced period of life.\n"
   ]
  },
  {
   "cell_type": "code",
   "execution_count": 5,
   "metadata": {
    "id": "tllAaFXjQJzE"
   },
   "outputs": [],
   "source": [
    "var = \"\"\"SENSE AND SENSIBILITY\n",
    "\n",
    "by Jane Austen\n",
    "\n",
    "(1811)\n",
    "\n",
    "(The family of Dashwood had long been settled in Sussex.  Their estate\n",
    "was large, and their residence was at Norland Park, in the centre of\n",
    "their property, where, for many generations, they had lived in so\n",
    "respectable a manner as to engage the general good opinion of their\n",
    "surrounding acquaintance.  The late owner of this estate was a single\n",
    "man, who lived to a very advanced age, and who for many years of his\n",
    "life, had a constant companion and housekeeper in his sister.  But her\n",
    "death, which happened ten years before his own, produced a great\n",
    "alteration in his home; for to supply her loss, he invited and received\n",
    "into his house the family of his nephew Mr. Henry Dashwood, the legal\n",
    "inheritor of the Norland estate, and the person to whom he intended to\n",
    "bequeath it.  In the society of his nephew and niece, and their\n",
    "children, the old Gentleman's days were comfortably spent.  His\n",
    "attachment to them all increased.  The constant attention of Mr. and\n",
    "Mrs. Henry Dashwood to his wishes, which proceeded not merely from\n",
    "interest, but from goodness of heart, gave him every degree of solid\n",
    "comfort which his age could receive; and the cheerfulness of the\n",
    "children added a relish to his existence.)\n",
    "By a former marriage, Mr. Henry Dashwood had one son: by his present\n",
    "lady, three daughters.  The son, a steady respectable young man, was\n",
    "amply provided for by the fortune of his mother, which had been large,\n",
    "and half of which devolved on him on his coming of age.  By his own\n",
    "marriage, likewise, which happened soon afterwards, he added to his\n",
    "wealth.  To him therefore the succession to the Norland estate was not\n",
    "so really important as to his sisters; for their fortune, independent\n",
    "of what might arise to them from their father's inheriting that\n",
    "property, could be but small.  Their mother had nothing, and their\n",
    "father only seven thousand pounds in his own disposal; for the\n",
    "remaining moiety of his first wife's fortune was also secured to her\n",
    "child, and he had only a life-interest in it.)\n",
    "The old gentleman died: his will was read, and like almost every other\n",
    "will, gave as much disappointment as pleasure.  He was neither so\n",
    "unjust, nor so ungrateful, as to leave his estate from his nephew;--but\n",
    "he left it to him on such terms as destroyed half the value of the\n",
    "bequest.  Mr. Dashwood had wished for it more for the sake of his wife\n",
    "and daughters than for himself or his son;--but to his son, and his\n",
    "son's son, a child of four years old, it was secured, in such a way, as\n",
    "to leave to himself no power of providing for those who were most dear\n",
    "to him, and who most needed a provision by any charge on the estate, or\n",
    "by any sale of its valuable woods.  The whole was tied up for the\n",
    "benefit of this child, who, in occasional visits with his father and\n",
    "mother at Norland, had so far gained on the affections of his uncle, by\n",
    "such attractions as are by no means unusual in children of two or three\n",
    "years old; an imperfect articulation, an earnest desire of having his\n",
    "own way, many cunning tricks, and a great deal of noise, as to outweigh\n",
    "all the value of all the attention which, for years, he had received\n",
    "from his niece and her daughters.  He meant not to be unkind, however,\n",
    "and, as a mark of his affection for the three girls, he left them a\n",
    "thousand pounds a-piece.)\n",
    "Mr. Dashwood's disappointment was, at first, severe; but his temper was\n",
    "cheerful and sanguine; and he might reasonably hope to live many years,\n",
    "and by living economically, lay by a considerable sum from the produce\n",
    "of an estate already large, and capable of almost immediate\n",
    "improvement.  But the fortune, which had been so tardy in coming, was\n",
    "his only one twelvemonth.  He survived his uncle no longer; and ten\n",
    "thousand pounds, including the late legacies, was all that remained for\n",
    "his widow and daughters.)\n",
    "His son was sent for as soon as his danger was known, and to him Mr.\n",
    "Dashwood recommended, with all the strength and urgency which illness\n",
    "could command, the interest of his mother-in-law and sisters.\n",
    "Mr. John Dashwood had not the strong feelings of the rest of the\n",
    "family; but he was affected by a recommendation of such a nature at\n",
    "such a time, and he promised to do every thing in his power to make\n",
    "them comfortable.  His father was rendered easy by such an assurance,\n",
    "and Mr. John Dashwood had then leisure to consider how much there might\n",
    "prudently be in his power to do for them.)\n",
    "He was not an ill-disposed young man, unless to be rather cold hearted\n",
    "and rather selfish is to be ill-disposed: but he was, in general, well\n",
    "respected; for he conducted himself with propriety in the discharge of\n",
    "his ordinary duties.  Had he married a more amiable woman, he might\n",
    "have been made still more respectable than he was:--he might even have\n",
    "been made amiable himself; for he was very young when he married, and\n",
    "very fond of his wife.  But Mrs. John Dashwood was a strong caricature\n",
    "of himself;--more narrow-minded and selfish.)\n",
    "When he gave his promise to his father, he meditated within himself to\n",
    "increase the fortunes of his sisters by the present of a thousand\n",
    "pounds a-piece.  He then really thought himself equal to it.  The\n",
    "prospect of four thousand a-year, in addition to his present income,\n",
    "besides the remaining half of his own mother's fortune, warmed his\n",
    "heart, and made him feel capable of generosity.-- \"Yes, he would give\n",
    "them three thousand pounds: it would be liberal and handsome! It would\n",
    "be enough to make them completely easy.  Three thousand pounds! he\n",
    "could spare so considerable a sum with little inconvenience.\"-- He\n",
    "thought of it all day long, and for many days successively, and he did\n",
    "not repent.\n",
    "No sooner was his father's funeral over, than Mrs. John Dashwood,\n",
    "without sending any notice of her intention to her mother-in-law,\n",
    "arrived with her child and their attendants.  No one could dispute her\n",
    "right to come; the house was her husband's from the moment of his\n",
    "father's decease; but the indelicacy of her conduct was so much the\n",
    "greater, and to a woman in Mrs. Dashwood's situation, with only common\n",
    "feelings, must have been highly unpleasing;--but in HER mind there was\n",
    "a sense of honor so keen, a generosity so romantic, that any offence of\n",
    "the kind, by whomsoever given or received, was to her a source of\n",
    "immovable disgust.  Mrs. John Dashwood had never been a favourite with\n",
    "any of her husband's family; but she had had no opportunity, till the\n",
    "present, of shewing them with how little attention to the comfort of\n",
    "other people she could act when occasion required it.\n",
    "So acutely did Mrs. Dashwood feel this ungracious behaviour, and so\n",
    "earnestly did she despise her daughter-in-law for it, that, on the\n",
    "arrival of the latter, she would have quitted the house for ever, had\n",
    "not the entreaty of her eldest girl induced her first to reflect on the\n",
    "propriety of going, and her own tender love for all her three children\n",
    "determined her afterwards to stay, and for their sakes avoid a breach\n",
    "with their brother.\n",
    "Elinor, this eldest daughter, whose advice was so effectual, possessed\n",
    "a strength of understanding, and coolness of judgment, which qualified\n",
    "her, though only nineteen, to be the counsellor of her mother, and\n",
    "enabled her frequently to counteract, to the advantage of them all,\n",
    "that eagerness of mind in Mrs. Dashwood which must generally have led\n",
    "to imprudence.  She had an excellent heart;--her disposition was\n",
    "affectionate, and her feelings were strong; but she knew how to govern\n",
    "them: it was a knowledge which her mother had yet to learn; and which\n",
    "one of her sisters had resolved never to be taught.\n",
    "Marianne's abilities were, in many respects, quite equal to Elinor's.\n",
    "She was sensible and clever; but eager in everything: her sorrows, her\n",
    "joys, could have no moderation.  She was generous, amiable,\n",
    "interesting: she was everything but prudent.  The resemblance between\n",
    "her and her mother was strikingly great.\n",
    "Elinor saw, with concern, the excess of her sister's sensibility; but\n",
    "by Mrs. Dashwood it was valued and cherished.  They encouraged each\n",
    "other now in the violence of their affliction.  The agony of grief\n",
    "which overpowered them at first, was voluntarily renewed, was sought\n",
    "for, was created again and again.  They gave themselves up wholly to\n",
    "their sorrow, seeking increase of wretchedness in every reflection that\n",
    "could afford it, and resolved against ever admitting consolation in\n",
    "future.  Elinor, too, was deeply afflicted; but still she could\n",
    "struggle, she could exert herself.  She could consult with her brother,\n",
    "could receive her sister-in-law on her arrival, and treat her with\n",
    "proper attention; and could strive to rouse her mother to similar\n",
    "exertion, and encourage her to similar forbearance.\n",
    "Margaret, the other sister, was a good-humored, well-disposed girl; but\n",
    "as she had already imbibed a good deal of Marianne's romance, without\n",
    "having much of her sense, she did not, at thirteen, bid fair to equal\n",
    "her sisters at a more advanced period of life.\n",
    "\"\"\""
   ]
  },
  {
   "cell_type": "code",
   "execution_count": 6,
   "metadata": {
    "id": "SXkTzn3iaQsB"
   },
   "outputs": [],
   "source": [
    "for char in ':;-.,\\n\\\"':\n",
    "  var=var.replace(char,'')\n",
    "var = var.lower()"
   ]
  },
  {
   "cell_type": "code",
   "execution_count": 7,
   "metadata": {
    "colab": {
     "base_uri": "https://localhost:8080/"
    },
    "id": "b2Ise0DvarRw",
    "outputId": "63270dcd-221b-419d-825f-ed5281a7d355"
   },
   "outputs": [
    {
     "name": "stdout",
     "output_type": "stream",
     "text": [
      "sense and sensibilityby jane austen(1811)(the family of dashwood had long been settled in sussex  their estatewas large and their residence was at norland park in the centre oftheir property where for many generations they had lived in sorespectable a manner as to engage the general good opinion of theirsurrounding acquaintance  the late owner of this estate was a singleman who lived to a very advanced age and who for many years of hislife had a constant companion and housekeeper in his sister  but herdeath which happened ten years before his own produced a greatalteration in his home for to supply her loss he invited and receivedinto his house the family of his nephew mr henry dashwood the legalinheritor of the norland estate and the person to whom he intended tobequeath it  in the society of his nephew and niece and theirchildren the old gentleman's days were comfortably spent  hisattachment to them all increased  the constant attention of mr andmrs henry dashwood to his wishes which proceeded not merely frominterest but from goodness of heart gave him every degree of solidcomfort which his age could receive and the cheerfulness of thechildren added a relish to his existence)by a former marriage mr henry dashwood had one son by his presentlady three daughters  the son a steady respectable young man wasamply provided for by the fortune of his mother which had been largeand half of which devolved on him on his coming of age  by his ownmarriage likewise which happened soon afterwards he added to hiswealth  to him therefore the succession to the norland estate was notso really important as to his sisters for their fortune independentof what might arise to them from their father's inheriting thatproperty could be but small  their mother had nothing and theirfather only seven thousand pounds in his own disposal for theremaining moiety of his first wife's fortune was also secured to herchild and he had only a lifeinterest in it)the old gentleman died his will was read and like almost every otherwill gave as much disappointment as pleasure  he was neither sounjust nor so ungrateful as to leave his estate from his nephewbuthe left it to him on such terms as destroyed half the value of thebequest  mr dashwood had wished for it more for the sake of his wifeand daughters than for himself or his sonbut to his son and hisson's son a child of four years old it was secured in such a way asto leave to himself no power of providing for those who were most dearto him and who most needed a provision by any charge on the estate orby any sale of its valuable woods  the whole was tied up for thebenefit of this child who in occasional visits with his father andmother at norland had so far gained on the affections of his uncle bysuch attractions as are by no means unusual in children of two or threeyears old an imperfect articulation an earnest desire of having hisown way many cunning tricks and a great deal of noise as to outweighall the value of all the attention which for years he had receivedfrom his niece and her daughters  he meant not to be unkind howeverand as a mark of his affection for the three girls he left them athousand pounds apiece)mr dashwood's disappointment was at first severe but his temper wascheerful and sanguine and he might reasonably hope to live many yearsand by living economically lay by a considerable sum from the produceof an estate already large and capable of almost immediateimprovement  but the fortune which had been so tardy in coming washis only one twelvemonth  he survived his uncle no longer and tenthousand pounds including the late legacies was all that remained forhis widow and daughters)his son was sent for as soon as his danger was known and to him mrdashwood recommended with all the strength and urgency which illnesscould command the interest of his motherinlaw and sistersmr john dashwood had not the strong feelings of the rest of thefamily but he was affected by a recommendation of such a nature atsuch a time and he promised to do every thing in his power to makethem comfortable  his father was rendered easy by such an assuranceand mr john dashwood had then leisure to consider how much there mightprudently be in his power to do for them)he was not an illdisposed young man unless to be rather cold heartedand rather selfish is to be illdisposed but he was in general wellrespected for he conducted himself with propriety in the discharge ofhis ordinary duties  had he married a more amiable woman he mighthave been made still more respectable than he washe might even havebeen made amiable himself for he was very young when he married andvery fond of his wife  but mrs john dashwood was a strong caricatureof himselfmore narrowminded and selfish)when he gave his promise to his father he meditated within himself toincrease the fortunes of his sisters by the present of a thousandpounds apiece  he then really thought himself equal to it  theprospect of four thousand ayear in addition to his present incomebesides the remaining half of his own mother's fortune warmed hisheart and made him feel capable of generosity yes he would givethem three thousand pounds it would be liberal and handsome! it wouldbe enough to make them completely easy  three thousand pounds! hecould spare so considerable a sum with little inconvenience hethought of it all day long and for many days successively and he didnot repentno sooner was his father's funeral over than mrs john dashwoodwithout sending any notice of her intention to her motherinlawarrived with her child and their attendants  no one could dispute herright to come the house was her husband's from the moment of hisfather's decease but the indelicacy of her conduct was so much thegreater and to a woman in mrs dashwood's situation with only commonfeelings must have been highly unpleasingbut in her mind there wasa sense of honor so keen a generosity so romantic that any offence ofthe kind by whomsoever given or received was to her a source ofimmovable disgust  mrs john dashwood had never been a favourite withany of her husband's family but she had had no opportunity till thepresent of shewing them with how little attention to the comfort ofother people she could act when occasion required itso acutely did mrs dashwood feel this ungracious behaviour and soearnestly did she despise her daughterinlaw for it that on thearrival of the latter she would have quitted the house for ever hadnot the entreaty of her eldest girl induced her first to reflect on thepropriety of going and her own tender love for all her three childrendetermined her afterwards to stay and for their sakes avoid a breachwith their brotherelinor this eldest daughter whose advice was so effectual possesseda strength of understanding and coolness of judgment which qualifiedher though only nineteen to be the counsellor of her mother andenabled her frequently to counteract to the advantage of them allthat eagerness of mind in mrs dashwood which must generally have ledto imprudence  she had an excellent hearther disposition wasaffectionate and her feelings were strong but she knew how to governthem it was a knowledge which her mother had yet to learn and whichone of her sisters had resolved never to be taughtmarianne's abilities were in many respects quite equal to elinor'sshe was sensible and clever but eager in everything her sorrows herjoys could have no moderation  she was generous amiableinteresting she was everything but prudent  the resemblance betweenher and her mother was strikingly greatelinor saw with concern the excess of her sister's sensibility butby mrs dashwood it was valued and cherished  they encouraged eachother now in the violence of their affliction  the agony of griefwhich overpowered them at first was voluntarily renewed was soughtfor was created again and again  they gave themselves up wholly totheir sorrow seeking increase of wretchedness in every reflection thatcould afford it and resolved against ever admitting consolation infuture  elinor too was deeply afflicted but still she couldstruggle she could exert herself  she could consult with her brothercould receive her sisterinlaw on her arrival and treat her withproper attention and could strive to rouse her mother to similarexertion and encourage her to similar forbearancemargaret the other sister was a goodhumored welldisposed girl butas she had already imbibed a good deal of marianne's romance withouthaving much of her sense she did not at thirteen bid fair to equalher sisters at a more advanced period of life\n"
     ]
    }
   ],
   "source": [
    "print(var)"
   ]
  },
  {
   "cell_type": "code",
   "execution_count": 9,
   "metadata": {
    "id": "l7PmOFPjaxm0"
   },
   "outputs": [],
   "source": [
    "word_list = var.split()"
   ]
  },
  {
   "cell_type": "code",
   "execution_count": 10,
   "metadata": {
    "colab": {
     "base_uri": "https://localhost:8080/"
    },
    "id": "B6K5VfRvbS_W",
    "outputId": "983390f5-5567-464b-ce71-cda70d4588b7"
   },
   "outputs": [
    {
     "name": "stdout",
     "output_type": "stream",
     "text": [
      "['sense', 'and', 'sensibilityby', 'jane', 'austen(1811)(the', 'family', 'of', 'dashwood', 'had', 'long', 'been', 'settled', 'in', 'sussex', 'their', 'estatewas', 'large', 'and', 'their', 'residence', 'was', 'at', 'norland', 'park', 'in', 'the', 'centre', 'oftheir', 'property', 'where', 'for', 'many', 'generations', 'they', 'had', 'lived', 'in', 'sorespectable', 'a', 'manner', 'as', 'to', 'engage', 'the', 'general', 'good', 'opinion', 'of', 'theirsurrounding', 'acquaintance', 'the', 'late', 'owner', 'of', 'this', 'estate', 'was', 'a', 'singleman', 'who', 'lived', 'to', 'a', 'very', 'advanced', 'age', 'and', 'who', 'for', 'many', 'years', 'of', 'hislife', 'had', 'a', 'constant', 'companion', 'and', 'housekeeper', 'in', 'his', 'sister', 'but', 'herdeath', 'which', 'happened', 'ten', 'years', 'before', 'his', 'own', 'produced', 'a', 'greatalteration', 'in', 'his', 'home', 'for', 'to', 'supply', 'her', 'loss', 'he', 'invited', 'and', 'receivedinto', 'his', 'house', 'the', 'family', 'of', 'his', 'nephew', 'mr', 'henry', 'dashwood', 'the', 'legalinheritor', 'of', 'the', 'norland', 'estate', 'and', 'the', 'person', 'to', 'whom', 'he', 'intended', 'tobequeath', 'it', 'in', 'the', 'society', 'of', 'his', 'nephew', 'and', 'niece', 'and', 'theirchildren', 'the', 'old', \"gentleman's\", 'days', 'were', 'comfortably', 'spent', 'hisattachment', 'to', 'them', 'all', 'increased', 'the', 'constant', 'attention', 'of', 'mr', 'andmrs', 'henry', 'dashwood', 'to', 'his', 'wishes', 'which', 'proceeded', 'not', 'merely', 'frominterest', 'but', 'from', 'goodness', 'of', 'heart', 'gave', 'him', 'every', 'degree', 'of', 'solidcomfort', 'which', 'his', 'age', 'could', 'receive', 'and', 'the', 'cheerfulness', 'of', 'thechildren', 'added', 'a', 'relish', 'to', 'his', 'existence)by', 'a', 'former', 'marriage', 'mr', 'henry', 'dashwood', 'had', 'one', 'son', 'by', 'his', 'presentlady', 'three', 'daughters', 'the', 'son', 'a', 'steady', 'respectable', 'young', 'man', 'wasamply', 'provided', 'for', 'by', 'the', 'fortune', 'of', 'his', 'mother', 'which', 'had', 'been', 'largeand', 'half', 'of', 'which', 'devolved', 'on', 'him', 'on', 'his', 'coming', 'of', 'age', 'by', 'his', 'ownmarriage', 'likewise', 'which', 'happened', 'soon', 'afterwards', 'he', 'added', 'to', 'hiswealth', 'to', 'him', 'therefore', 'the', 'succession', 'to', 'the', 'norland', 'estate', 'was', 'notso', 'really', 'important', 'as', 'to', 'his', 'sisters', 'for', 'their', 'fortune', 'independentof', 'what', 'might', 'arise', 'to', 'them', 'from', 'their', \"father's\", 'inheriting', 'thatproperty', 'could', 'be', 'but', 'small', 'their', 'mother', 'had', 'nothing', 'and', 'theirfather', 'only', 'seven', 'thousand', 'pounds', 'in', 'his', 'own', 'disposal', 'for', 'theremaining', 'moiety', 'of', 'his', 'first', \"wife's\", 'fortune', 'was', 'also', 'secured', 'to', 'herchild', 'and', 'he', 'had', 'only', 'a', 'lifeinterest', 'in', 'it)the', 'old', 'gentleman', 'died', 'his', 'will', 'was', 'read', 'and', 'like', 'almost', 'every', 'otherwill', 'gave', 'as', 'much', 'disappointment', 'as', 'pleasure', 'he', 'was', 'neither', 'sounjust', 'nor', 'so', 'ungrateful', 'as', 'to', 'leave', 'his', 'estate', 'from', 'his', 'nephewbuthe', 'left', 'it', 'to', 'him', 'on', 'such', 'terms', 'as', 'destroyed', 'half', 'the', 'value', 'of', 'thebequest', 'mr', 'dashwood', 'had', 'wished', 'for', 'it', 'more', 'for', 'the', 'sake', 'of', 'his', 'wifeand', 'daughters', 'than', 'for', 'himself', 'or', 'his', 'sonbut', 'to', 'his', 'son', 'and', \"hisson's\", 'son', 'a', 'child', 'of', 'four', 'years', 'old', 'it', 'was', 'secured', 'in', 'such', 'a', 'way', 'asto', 'leave', 'to', 'himself', 'no', 'power', 'of', 'providing', 'for', 'those', 'who', 'were', 'most', 'dearto', 'him', 'and', 'who', 'most', 'needed', 'a', 'provision', 'by', 'any', 'charge', 'on', 'the', 'estate', 'orby', 'any', 'sale', 'of', 'its', 'valuable', 'woods', 'the', 'whole', 'was', 'tied', 'up', 'for', 'thebenefit', 'of', 'this', 'child', 'who', 'in', 'occasional', 'visits', 'with', 'his', 'father', 'andmother', 'at', 'norland', 'had', 'so', 'far', 'gained', 'on', 'the', 'affections', 'of', 'his', 'uncle', 'bysuch', 'attractions', 'as', 'are', 'by', 'no', 'means', 'unusual', 'in', 'children', 'of', 'two', 'or', 'threeyears', 'old', 'an', 'imperfect', 'articulation', 'an', 'earnest', 'desire', 'of', 'having', 'hisown', 'way', 'many', 'cunning', 'tricks', 'and', 'a', 'great', 'deal', 'of', 'noise', 'as', 'to', 'outweighall', 'the', 'value', 'of', 'all', 'the', 'attention', 'which', 'for', 'years', 'he', 'had', 'receivedfrom', 'his', 'niece', 'and', 'her', 'daughters', 'he', 'meant', 'not', 'to', 'be', 'unkind', 'howeverand', 'as', 'a', 'mark', 'of', 'his', 'affection', 'for', 'the', 'three', 'girls', 'he', 'left', 'them', 'athousand', 'pounds', 'apiece)mr', \"dashwood's\", 'disappointment', 'was', 'at', 'first', 'severe', 'but', 'his', 'temper', 'wascheerful', 'and', 'sanguine', 'and', 'he', 'might', 'reasonably', 'hope', 'to', 'live', 'many', 'yearsand', 'by', 'living', 'economically', 'lay', 'by', 'a', 'considerable', 'sum', 'from', 'the', 'produceof', 'an', 'estate', 'already', 'large', 'and', 'capable', 'of', 'almost', 'immediateimprovement', 'but', 'the', 'fortune', 'which', 'had', 'been', 'so', 'tardy', 'in', 'coming', 'washis', 'only', 'one', 'twelvemonth', 'he', 'survived', 'his', 'uncle', 'no', 'longer', 'and', 'tenthousand', 'pounds', 'including', 'the', 'late', 'legacies', 'was', 'all', 'that', 'remained', 'forhis', 'widow', 'and', 'daughters)his', 'son', 'was', 'sent', 'for', 'as', 'soon', 'as', 'his', 'danger', 'was', 'known', 'and', 'to', 'him', 'mrdashwood', 'recommended', 'with', 'all', 'the', 'strength', 'and', 'urgency', 'which', 'illnesscould', 'command', 'the', 'interest', 'of', 'his', 'motherinlaw', 'and', 'sistersmr', 'john', 'dashwood', 'had', 'not', 'the', 'strong', 'feelings', 'of', 'the', 'rest', 'of', 'thefamily', 'but', 'he', 'was', 'affected', 'by', 'a', 'recommendation', 'of', 'such', 'a', 'nature', 'atsuch', 'a', 'time', 'and', 'he', 'promised', 'to', 'do', 'every', 'thing', 'in', 'his', 'power', 'to', 'makethem', 'comfortable', 'his', 'father', 'was', 'rendered', 'easy', 'by', 'such', 'an', 'assuranceand', 'mr', 'john', 'dashwood', 'had', 'then', 'leisure', 'to', 'consider', 'how', 'much', 'there', 'mightprudently', 'be', 'in', 'his', 'power', 'to', 'do', 'for', 'them)he', 'was', 'not', 'an', 'illdisposed', 'young', 'man', 'unless', 'to', 'be', 'rather', 'cold', 'heartedand', 'rather', 'selfish', 'is', 'to', 'be', 'illdisposed', 'but', 'he', 'was', 'in', 'general', 'wellrespected', 'for', 'he', 'conducted', 'himself', 'with', 'propriety', 'in', 'the', 'discharge', 'ofhis', 'ordinary', 'duties', 'had', 'he', 'married', 'a', 'more', 'amiable', 'woman', 'he', 'mighthave', 'been', 'made', 'still', 'more', 'respectable', 'than', 'he', 'washe', 'might', 'even', 'havebeen', 'made', 'amiable', 'himself', 'for', 'he', 'was', 'very', 'young', 'when', 'he', 'married', 'andvery', 'fond', 'of', 'his', 'wife', 'but', 'mrs', 'john', 'dashwood', 'was', 'a', 'strong', 'caricatureof', 'himselfmore', 'narrowminded', 'and', 'selfish)when', 'he', 'gave', 'his', 'promise', 'to', 'his', 'father', 'he', 'meditated', 'within', 'himself', 'toincrease', 'the', 'fortunes', 'of', 'his', 'sisters', 'by', 'the', 'present', 'of', 'a', 'thousandpounds', 'apiece', 'he', 'then', 'really', 'thought', 'himself', 'equal', 'to', 'it', 'theprospect', 'of', 'four', 'thousand', 'ayear', 'in', 'addition', 'to', 'his', 'present', 'incomebesides', 'the', 'remaining', 'half', 'of', 'his', 'own', \"mother's\", 'fortune', 'warmed', 'hisheart', 'and', 'made', 'him', 'feel', 'capable', 'of', 'generosity', 'yes', 'he', 'would', 'givethem', 'three', 'thousand', 'pounds', 'it', 'would', 'be', 'liberal', 'and', 'handsome!', 'it', 'wouldbe', 'enough', 'to', 'make', 'them', 'completely', 'easy', 'three', 'thousand', 'pounds!', 'hecould', 'spare', 'so', 'considerable', 'a', 'sum', 'with', 'little', 'inconvenience', 'hethought', 'of', 'it', 'all', 'day', 'long', 'and', 'for', 'many', 'days', 'successively', 'and', 'he', 'didnot', 'repentno', 'sooner', 'was', 'his', \"father's\", 'funeral', 'over', 'than', 'mrs', 'john', 'dashwoodwithout', 'sending', 'any', 'notice', 'of', 'her', 'intention', 'to', 'her', 'motherinlawarrived', 'with', 'her', 'child', 'and', 'their', 'attendants', 'no', 'one', 'could', 'dispute', 'herright', 'to', 'come', 'the', 'house', 'was', 'her', \"husband's\", 'from', 'the', 'moment', 'of', \"hisfather's\", 'decease', 'but', 'the', 'indelicacy', 'of', 'her', 'conduct', 'was', 'so', 'much', 'thegreater', 'and', 'to', 'a', 'woman', 'in', 'mrs', \"dashwood's\", 'situation', 'with', 'only', 'commonfeelings', 'must', 'have', 'been', 'highly', 'unpleasingbut', 'in', 'her', 'mind', 'there', 'wasa', 'sense', 'of', 'honor', 'so', 'keen', 'a', 'generosity', 'so', 'romantic', 'that', 'any', 'offence', 'ofthe', 'kind', 'by', 'whomsoever', 'given', 'or', 'received', 'was', 'to', 'her', 'a', 'source', 'ofimmovable', 'disgust', 'mrs', 'john', 'dashwood', 'had', 'never', 'been', 'a', 'favourite', 'withany', 'of', 'her', \"husband's\", 'family', 'but', 'she', 'had', 'had', 'no', 'opportunity', 'till', 'thepresent', 'of', 'shewing', 'them', 'with', 'how', 'little', 'attention', 'to', 'the', 'comfort', 'ofother', 'people', 'she', 'could', 'act', 'when', 'occasion', 'required', 'itso', 'acutely', 'did', 'mrs', 'dashwood', 'feel', 'this', 'ungracious', 'behaviour', 'and', 'soearnestly', 'did', 'she', 'despise', 'her', 'daughterinlaw', 'for', 'it', 'that', 'on', 'thearrival', 'of', 'the', 'latter', 'she', 'would', 'have', 'quitted', 'the', 'house', 'for', 'ever', 'hadnot', 'the', 'entreaty', 'of', 'her', 'eldest', 'girl', 'induced', 'her', 'first', 'to', 'reflect', 'on', 'thepropriety', 'of', 'going', 'and', 'her', 'own', 'tender', 'love', 'for', 'all', 'her', 'three', 'childrendetermined', 'her', 'afterwards', 'to', 'stay', 'and', 'for', 'their', 'sakes', 'avoid', 'a', 'breachwith', 'their', 'brotherelinor', 'this', 'eldest', 'daughter', 'whose', 'advice', 'was', 'so', 'effectual', 'possesseda', 'strength', 'of', 'understanding', 'and', 'coolness', 'of', 'judgment', 'which', 'qualifiedher', 'though', 'only', 'nineteen', 'to', 'be', 'the', 'counsellor', 'of', 'her', 'mother', 'andenabled', 'her', 'frequently', 'to', 'counteract', 'to', 'the', 'advantage', 'of', 'them', 'allthat', 'eagerness', 'of', 'mind', 'in', 'mrs', 'dashwood', 'which', 'must', 'generally', 'have', 'ledto', 'imprudence', 'she', 'had', 'an', 'excellent', 'hearther', 'disposition', 'wasaffectionate', 'and', 'her', 'feelings', 'were', 'strong', 'but', 'she', 'knew', 'how', 'to', 'governthem', 'it', 'was', 'a', 'knowledge', 'which', 'her', 'mother', 'had', 'yet', 'to', 'learn', 'and', 'whichone', 'of', 'her', 'sisters', 'had', 'resolved', 'never', 'to', 'be', \"taughtmarianne's\", 'abilities', 'were', 'in', 'many', 'respects', 'quite', 'equal', 'to', \"elinor'sshe\", 'was', 'sensible', 'and', 'clever', 'but', 'eager', 'in', 'everything', 'her', 'sorrows', 'herjoys', 'could', 'have', 'no', 'moderation', 'she', 'was', 'generous', 'amiableinteresting', 'she', 'was', 'everything', 'but', 'prudent', 'the', 'resemblance', 'betweenher', 'and', 'her', 'mother', 'was', 'strikingly', 'greatelinor', 'saw', 'with', 'concern', 'the', 'excess', 'of', 'her', \"sister's\", 'sensibility', 'butby', 'mrs', 'dashwood', 'it', 'was', 'valued', 'and', 'cherished', 'they', 'encouraged', 'eachother', 'now', 'in', 'the', 'violence', 'of', 'their', 'affliction', 'the', 'agony', 'of', 'griefwhich', 'overpowered', 'them', 'at', 'first', 'was', 'voluntarily', 'renewed', 'was', 'soughtfor', 'was', 'created', 'again', 'and', 'again', 'they', 'gave', 'themselves', 'up', 'wholly', 'totheir', 'sorrow', 'seeking', 'increase', 'of', 'wretchedness', 'in', 'every', 'reflection', 'thatcould', 'afford', 'it', 'and', 'resolved', 'against', 'ever', 'admitting', 'consolation', 'infuture', 'elinor', 'too', 'was', 'deeply', 'afflicted', 'but', 'still', 'she', 'couldstruggle', 'she', 'could', 'exert', 'herself', 'she', 'could', 'consult', 'with', 'her', 'brothercould', 'receive', 'her', 'sisterinlaw', 'on', 'her', 'arrival', 'and', 'treat', 'her', 'withproper', 'attention', 'and', 'could', 'strive', 'to', 'rouse', 'her', 'mother', 'to', 'similarexertion', 'and', 'encourage', 'her', 'to', 'similar', 'forbearancemargaret', 'the', 'other', 'sister', 'was', 'a', 'goodhumored', 'welldisposed', 'girl', 'butas', 'she', 'had', 'already', 'imbibed', 'a', 'good', 'deal', 'of', \"marianne's\", 'romance', 'withouthaving', 'much', 'of', 'her', 'sense', 'she', 'did', 'not', 'at', 'thirteen', 'bid', 'fair', 'to', 'equalher', 'sisters', 'at', 'a', 'more', 'advanced', 'period', 'of', 'life']\n"
     ]
    }
   ],
   "source": [
    "print(word_list)"
   ]
  },
  {
   "cell_type": "code",
   "execution_count": 11,
   "metadata": {
    "id": "OEWWVuirbbDg"
   },
   "outputs": [],
   "source": [
    "d = {}\n",
    "for word in word_list:\n",
    "  d[word] = d.get(word, 0) + 1"
   ]
  },
  {
   "cell_type": "code",
   "execution_count": 12,
   "metadata": {
    "colab": {
     "base_uri": "https://localhost:8080/"
    },
    "id": "U-DF-rcua3-l",
    "outputId": "e24497be-5906-4295-e0b7-f9d863bc38e1"
   },
   "outputs": [
    {
     "name": "stdout",
     "output_type": "stream",
     "text": [
      "{'sense': 3, 'and': 46, 'sensibilityby': 1, 'jane': 1, 'austen(1811)(the': 1, 'family': 3, 'of': 61, 'dashwood': 12, 'had': 21, 'long': 2, 'been': 6, 'settled': 1, 'in': 24, 'sussex': 1, 'their': 9, 'estatewas': 1, 'large': 2, 'residence': 1, 'was': 34, 'at': 6, 'norland': 4, 'park': 1, 'the': 48, 'centre': 1, 'oftheir': 1, 'property': 1, 'where': 1, 'for': 22, 'many': 6, 'generations': 1, 'they': 3, 'lived': 2, 'sorespectable': 1, 'a': 31, 'manner': 1, 'as': 11, 'to': 49, 'engage': 1, 'general': 2, 'good': 2, 'opinion': 1, 'theirsurrounding': 1, 'acquaintance': 1, 'late': 2, 'owner': 1, 'this': 4, 'estate': 6, 'singleman': 1, 'who': 5, 'very': 2, 'advanced': 2, 'age': 3, 'years': 4, 'hislife': 1, 'constant': 2, 'companion': 1, 'housekeeper': 1, 'his': 40, 'sister': 2, 'but': 14, 'herdeath': 1, 'which': 12, 'happened': 2, 'ten': 1, 'before': 1, 'own': 4, 'produced': 1, 'greatalteration': 1, 'home': 1, 'supply': 1, 'her': 31, 'loss': 1, 'he': 24, 'invited': 1, 'receivedinto': 1, 'house': 3, 'nephew': 2, 'mr': 5, 'henry': 3, 'legalinheritor': 1, 'person': 1, 'whom': 1, 'intended': 1, 'tobequeath': 1, 'it': 12, 'society': 1, 'niece': 2, 'theirchildren': 1, 'old': 4, \"gentleman's\": 1, 'days': 2, 'were': 4, 'comfortably': 1, 'spent': 1, 'hisattachment': 1, 'them': 7, 'all': 6, 'increased': 1, 'attention': 4, 'andmrs': 1, 'wishes': 1, 'proceeded': 1, 'not': 5, 'merely': 1, 'frominterest': 1, 'from': 5, 'goodness': 1, 'heart': 1, 'gave': 4, 'him': 7, 'every': 4, 'degree': 1, 'solidcomfort': 1, 'could': 8, 'receive': 2, 'cheerfulness': 1, 'thechildren': 1, 'added': 2, 'relish': 1, 'existence)by': 1, 'former': 1, 'marriage': 1, 'one': 3, 'son': 5, 'by': 11, 'presentlady': 1, 'three': 5, 'daughters': 3, 'steady': 1, 'respectable': 2, 'young': 3, 'man': 2, 'wasamply': 1, 'provided': 1, 'fortune': 5, 'mother': 6, 'largeand': 1, 'half': 3, 'devolved': 1, 'on': 8, 'coming': 2, 'ownmarriage': 1, 'likewise': 1, 'soon': 2, 'afterwards': 2, 'hiswealth': 1, 'therefore': 1, 'succession': 1, 'notso': 1, 'really': 2, 'important': 1, 'sisters': 4, 'independentof': 1, 'what': 1, 'might': 3, 'arise': 1, \"father's\": 2, 'inheriting': 1, 'thatproperty': 1, 'be': 8, 'small': 1, 'nothing': 1, 'theirfather': 1, 'only': 5, 'seven': 1, 'thousand': 4, 'pounds': 4, 'disposal': 1, 'theremaining': 1, 'moiety': 1, 'first': 4, \"wife's\": 1, 'also': 1, 'secured': 2, 'herchild': 1, 'lifeinterest': 1, 'it)the': 1, 'gentleman': 1, 'died': 1, 'will': 1, 'read': 1, 'like': 1, 'almost': 2, 'otherwill': 1, 'much': 4, 'disappointment': 2, 'pleasure': 1, 'neither': 1, 'sounjust': 1, 'nor': 1, 'so': 8, 'ungrateful': 1, 'leave': 2, 'nephewbuthe': 1, 'left': 2, 'such': 4, 'terms': 1, 'destroyed': 1, 'value': 2, 'thebequest': 1, 'wished': 1, 'more': 4, 'sake': 1, 'wifeand': 1, 'than': 3, 'himself': 6, 'or': 3, 'sonbut': 1, \"hisson's\": 1, 'child': 3, 'four': 2, 'way': 2, 'asto': 1, 'no': 6, 'power': 3, 'providing': 1, 'those': 1, 'most': 2, 'dearto': 1, 'needed': 1, 'provision': 1, 'any': 4, 'charge': 1, 'orby': 1, 'sale': 1, 'its': 1, 'valuable': 1, 'woods': 1, 'whole': 1, 'tied': 1, 'up': 2, 'thebenefit': 1, 'occasional': 1, 'visits': 1, 'with': 9, 'father': 3, 'andmother': 1, 'far': 1, 'gained': 1, 'affections': 1, 'uncle': 2, 'bysuch': 1, 'attractions': 1, 'are': 1, 'means': 1, 'unusual': 1, 'children': 1, 'two': 1, 'threeyears': 1, 'an': 6, 'imperfect': 1, 'articulation': 1, 'earnest': 1, 'desire': 1, 'having': 1, 'hisown': 1, 'cunning': 1, 'tricks': 1, 'great': 1, 'deal': 2, 'noise': 1, 'outweighall': 1, 'receivedfrom': 1, 'meant': 1, 'unkind': 1, 'howeverand': 1, 'mark': 1, 'affection': 1, 'girls': 1, 'athousand': 1, 'apiece)mr': 1, \"dashwood's\": 2, 'severe': 1, 'temper': 1, 'wascheerful': 1, 'sanguine': 1, 'reasonably': 1, 'hope': 1, 'live': 1, 'yearsand': 1, 'living': 1, 'economically': 1, 'lay': 1, 'considerable': 2, 'sum': 2, 'produceof': 1, 'already': 2, 'capable': 2, 'immediateimprovement': 1, 'tardy': 1, 'washis': 1, 'twelvemonth': 1, 'survived': 1, 'longer': 1, 'tenthousand': 1, 'including': 1, 'legacies': 1, 'that': 3, 'remained': 1, 'forhis': 1, 'widow': 1, 'daughters)his': 1, 'sent': 1, 'danger': 1, 'known': 1, 'mrdashwood': 1, 'recommended': 1, 'strength': 2, 'urgency': 1, 'illnesscould': 1, 'command': 1, 'interest': 1, 'motherinlaw': 1, 'sistersmr': 1, 'john': 5, 'strong': 3, 'feelings': 2, 'rest': 1, 'thefamily': 1, 'affected': 1, 'recommendation': 1, 'nature': 1, 'atsuch': 1, 'time': 1, 'promised': 1, 'do': 2, 'thing': 1, 'makethem': 1, 'comfortable': 1, 'rendered': 1, 'easy': 2, 'assuranceand': 1, 'then': 2, 'leisure': 1, 'consider': 1, 'how': 3, 'there': 2, 'mightprudently': 1, 'them)he': 1, 'illdisposed': 2, 'unless': 1, 'rather': 2, 'cold': 1, 'heartedand': 1, 'selfish': 1, 'is': 1, 'wellrespected': 1, 'conducted': 1, 'propriety': 1, 'discharge': 1, 'ofhis': 1, 'ordinary': 1, 'duties': 1, 'married': 2, 'amiable': 2, 'woman': 2, 'mighthave': 1, 'made': 3, 'still': 2, 'washe': 1, 'even': 1, 'havebeen': 1, 'when': 2, 'andvery': 1, 'fond': 1, 'wife': 1, 'mrs': 7, 'caricatureof': 1, 'himselfmore': 1, 'narrowminded': 1, 'selfish)when': 1, 'promise': 1, 'meditated': 1, 'within': 1, 'toincrease': 1, 'fortunes': 1, 'present': 2, 'thousandpounds': 1, 'apiece': 1, 'thought': 1, 'equal': 2, 'theprospect': 1, 'ayear': 1, 'addition': 1, 'incomebesides': 1, 'remaining': 1, \"mother's\": 1, 'warmed': 1, 'hisheart': 1, 'feel': 2, 'generosity': 2, 'yes': 1, 'would': 3, 'givethem': 1, 'liberal': 1, 'handsome!': 1, 'wouldbe': 1, 'enough': 1, 'make': 1, 'completely': 1, 'pounds!': 1, 'hecould': 1, 'spare': 1, 'little': 2, 'inconvenience': 1, 'hethought': 1, 'day': 1, 'successively': 1, 'didnot': 1, 'repentno': 1, 'sooner': 1, 'funeral': 1, 'over': 1, 'dashwoodwithout': 1, 'sending': 1, 'notice': 1, 'intention': 1, 'motherinlawarrived': 1, 'attendants': 1, 'dispute': 1, 'herright': 1, 'come': 1, \"husband's\": 2, 'moment': 1, \"hisfather's\": 1, 'decease': 1, 'indelicacy': 1, 'conduct': 1, 'thegreater': 1, 'situation': 1, 'commonfeelings': 1, 'must': 2, 'have': 4, 'highly': 1, 'unpleasingbut': 1, 'mind': 2, 'wasa': 1, 'honor': 1, 'keen': 1, 'romantic': 1, 'offence': 1, 'ofthe': 1, 'kind': 1, 'whomsoever': 1, 'given': 1, 'received': 1, 'source': 1, 'ofimmovable': 1, 'disgust': 1, 'never': 2, 'favourite': 1, 'withany': 1, 'she': 13, 'opportunity': 1, 'till': 1, 'thepresent': 1, 'shewing': 1, 'comfort': 1, 'ofother': 1, 'people': 1, 'act': 1, 'occasion': 1, 'required': 1, 'itso': 1, 'acutely': 1, 'did': 3, 'ungracious': 1, 'behaviour': 1, 'soearnestly': 1, 'despise': 1, 'daughterinlaw': 1, 'thearrival': 1, 'latter': 1, 'quitted': 1, 'ever': 2, 'hadnot': 1, 'entreaty': 1, 'eldest': 2, 'girl': 2, 'induced': 1, 'reflect': 1, 'thepropriety': 1, 'going': 1, 'tender': 1, 'love': 1, 'childrendetermined': 1, 'stay': 1, 'sakes': 1, 'avoid': 1, 'breachwith': 1, 'brotherelinor': 1, 'daughter': 1, 'whose': 1, 'advice': 1, 'effectual': 1, 'possesseda': 1, 'understanding': 1, 'coolness': 1, 'judgment': 1, 'qualifiedher': 1, 'though': 1, 'nineteen': 1, 'counsellor': 1, 'andenabled': 1, 'frequently': 1, 'counteract': 1, 'advantage': 1, 'allthat': 1, 'eagerness': 1, 'generally': 1, 'ledto': 1, 'imprudence': 1, 'excellent': 1, 'hearther': 1, 'disposition': 1, 'wasaffectionate': 1, 'knew': 1, 'governthem': 1, 'knowledge': 1, 'yet': 1, 'learn': 1, 'whichone': 1, 'resolved': 2, \"taughtmarianne's\": 1, 'abilities': 1, 'respects': 1, 'quite': 1, \"elinor'sshe\": 1, 'sensible': 1, 'clever': 1, 'eager': 1, 'everything': 2, 'sorrows': 1, 'herjoys': 1, 'moderation': 1, 'generous': 1, 'amiableinteresting': 1, 'prudent': 1, 'resemblance': 1, 'betweenher': 1, 'strikingly': 1, 'greatelinor': 1, 'saw': 1, 'concern': 1, 'excess': 1, \"sister's\": 1, 'sensibility': 1, 'butby': 1, 'valued': 1, 'cherished': 1, 'encouraged': 1, 'eachother': 1, 'now': 1, 'violence': 1, 'affliction': 1, 'agony': 1, 'griefwhich': 1, 'overpowered': 1, 'voluntarily': 1, 'renewed': 1, 'soughtfor': 1, 'created': 1, 'again': 2, 'themselves': 1, 'wholly': 1, 'totheir': 1, 'sorrow': 1, 'seeking': 1, 'increase': 1, 'wretchedness': 1, 'reflection': 1, 'thatcould': 1, 'afford': 1, 'against': 1, 'admitting': 1, 'consolation': 1, 'infuture': 1, 'elinor': 1, 'too': 1, 'deeply': 1, 'afflicted': 1, 'couldstruggle': 1, 'exert': 1, 'herself': 1, 'consult': 1, 'brothercould': 1, 'sisterinlaw': 1, 'arrival': 1, 'treat': 1, 'withproper': 1, 'strive': 1, 'rouse': 1, 'similarexertion': 1, 'encourage': 1, 'similar': 1, 'forbearancemargaret': 1, 'other': 1, 'goodhumored': 1, 'welldisposed': 1, 'butas': 1, 'imbibed': 1, \"marianne's\": 1, 'romance': 1, 'withouthaving': 1, 'thirteen': 1, 'bid': 1, 'fair': 1, 'equalher': 1, 'period': 1, 'life': 1}\n"
     ]
    }
   ],
   "source": [
    "print(d)"
   ]
  }
 ],
 "metadata": {
  "colab": {
   "name": "Untitled0.ipynb",
   "provenance": []
  },
  "kernelspec": {
   "display_name": "Python 3",
   "language": "python",
   "name": "python3"
  },
  "language_info": {
   "codemirror_mode": {
    "name": "ipython",
    "version": 3
   },
   "file_extension": ".py",
   "mimetype": "text/x-python",
   "name": "python",
   "nbconvert_exporter": "python",
   "pygments_lexer": "ipython3",
   "version": "3.7.6"
  }
 },
 "nbformat": 4,
 "nbformat_minor": 1
}
